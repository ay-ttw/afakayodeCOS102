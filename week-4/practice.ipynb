{
 "cells": [
  {
   "cell_type": "code",
   "execution_count": 3,
   "id": "e8e4dcf9-dc2e-4fb1-9d0f-ffa6ae346cce",
   "metadata": {},
   "outputs": [
    {
     "name": "stdout",
     "output_type": "stream",
     "text": [
      "Im first vall to user defined function\n",
      "Again second call to the same function\n"
     ]
    }
   ],
   "source": [
    "def printme(str):\n",
    "#This is a string fucntion\n",
    " print(str);\n",
    " return;\n",
    "printme(\"Im first vall to user defined function\");\n",
    "printme(\"Again second call to the same function\");"
   ]
  },
  {
   "cell_type": "code",
   "execution_count": 5,
   "id": "4a53a638-ec87-4068-8e28-1af92a3b3eda",
   "metadata": {},
   "outputs": [
    {
     "name": "stdout",
     "output_type": "stream",
     "text": [
      "Values inside the function:  [10, 20, 30, [1, 2, 3, 4]]\n",
      "Values outside the fucntion:  [10, 20, 30, [1, 2, 3, 4]]\n"
     ]
    }
   ],
   "source": [
    "#Pass by reference\n",
    "def changename(mylist):\n",
    "    #This Changes a passed list\n",
    "    mylist.append([1,2,3,4])\n",
    "    print (\"Values inside the function: \", mylist)\n",
    "    return\n",
    "mylist = [10,20,30]\n",
    "changename(mylist)\n",
    "print(\"Values outside the fucntion: \", mylist)\n",
    "    "
   ]
  },
  {
   "cell_type": "code",
   "execution_count": 7,
   "id": "617bb270-c56f-45be-bff3-be8f8a4e9f3f",
   "metadata": {},
   "outputs": [
    {
     "name": "stdout",
     "output_type": "stream",
     "text": [
      "Values inside the function:  [1, 2, 3, 4]\n",
      "Values outside the fucntion:  [10, 20, 30]\n"
     ]
    }
   ],
   "source": [
    "#Pass by Value\n",
    "def changename(mylist):\n",
    "    #This Changes a passed list\n",
    "    mylist = [1,2,3,4];\n",
    "    print (\"Values inside the function: \", mylist)\n",
    "    return\n",
    "mylist = [10,20,30];\n",
    "changename(mylist);\n",
    "print(\"Values outside the fucntion: \", mylist)\n",
    "    "
   ]
  },
  {
   "cell_type": "code",
   "execution_count": 9,
   "id": "46239064-5063-4850-a64d-9db6bbb30f96",
   "metadata": {},
   "outputs": [
    {
     "name": "stdout",
     "output_type": "stream",
     "text": [
      "<class 'str'>\n"
     ]
    }
   ],
   "source": [
    "def printme(str):\n",
    "#This is a string fucntion\n",
    " print(str);\n",
    " return;\n",
    "printme();"
   ]
  },
  {
   "cell_type": "code",
   "execution_count": 10,
   "id": "d9687475-bc21-4126-88c2-0af2c79fb4bc",
   "metadata": {},
   "outputs": [
    {
     "name": "stdout",
     "output_type": "stream",
     "text": [
      "My String\n"
     ]
    }
   ],
   "source": [
    "def printme(str):\n",
    "#This is a string fucntion\n",
    " print(str);\n",
    " return;\n",
    "printme(str = \"My String\");"
   ]
  },
  {
   "cell_type": "code",
   "execution_count": 18,
   "id": "398f6cf2-3c2d-4067-ae9a-437773069066",
   "metadata": {},
   "outputs": [
    {
     "name": "stdout",
     "output_type": "stream",
     "text": [
      "Name:  miki\n",
      "Age:  50\n"
     ]
    }
   ],
   "source": [
    "#Keyword Arguents\n",
    "def printinfo(name, age):\n",
    "#This is a string fucntion\n",
    " print(\"Name: \", name);\n",
    " print(\"Age: \", age);\n",
    " return;     \n",
    "printinfo(age = 50, name = \"miki\");"
   ]
  },
  {
   "cell_type": "code",
   "execution_count": 19,
   "id": "0ae48985-2f6e-4073-80bc-d16911f4c5da",
   "metadata": {},
   "outputs": [
    {
     "name": "stdout",
     "output_type": "stream",
     "text": [
      "Name:  miki\n",
      "Age:  50\n",
      "Name:  miki\n",
      "Age:  35\n"
     ]
    }
   ],
   "source": [
    "#Default Arguents\n",
    "def printinfo(name, age= 35):\n",
    "#Test  Function\n",
    " print(\"Name: \", name);\n",
    " print(\"Age: \", age);\n",
    " return;     \n",
    "printinfo(age = 50, name = \"miki\");\n",
    "printinfo( name = \"miki\");"
   ]
  },
  {
   "cell_type": "code",
   "execution_count": 23,
   "id": "60541508-3419-4706-ba7b-44471fed420a",
   "metadata": {},
   "outputs": [
    {
     "name": "stdout",
     "output_type": "stream",
     "text": [
      "Output is : \n",
      "10\n",
      "Output is : \n",
      "70\n",
      "60\n"
     ]
    }
   ],
   "source": [
    "#Default Arguents\n",
    "def printinfo(arg1, * vartuple):\n",
    "#This is test\n",
    " print(\"Output is : \")\n",
    " print(arg1)\n",
    " for var in vartuple:\n",
    "     print(var)\n",
    "     return;\n",
    "printinfo(10)\n",
    "printinfo( 70,60,50);"
   ]
  },
  {
   "cell_type": "code",
   "execution_count": 25,
   "id": "802dcfa6-53c1-4694-908d-84e466cbc860",
   "metadata": {},
   "outputs": [
    {
     "name": "stdout",
     "output_type": "stream",
     "text": [
      "Inside the function local total:  30\n",
      "Outside the function global total:  50\n"
     ]
    }
   ],
   "source": [
    "total = 50; #Thus is a global variable\n",
    "def sum(arg1, arg2):\n",
    "    #Add both the parameters\n",
    "    total = arg1 + arg2;\n",
    "    print(\"Inside the function local total: \", total)\n",
    "    return total;\n",
    "#Now you can call sum function\n",
    "sum(10,20);\n",
    "print(\"Outside the function global total: \",total)\n"
   ]
  },
  {
   "cell_type": "code",
   "execution_count": 26,
   "id": "b7fa8a55-586f-4dee-a44c-62dc136983de",
   "metadata": {},
   "outputs": [
    {
     "name": "stdout",
     "output_type": "stream",
     "text": [
      "Lawal Edward Tolu Tina\n",
      "Mary\n"
     ]
    }
   ],
   "source": [
    "def swap(x , y):\n",
    "    global a\n",
    "    a = \"Lawal\"\n",
    "    x,y=y,x\n",
    "    b = \"Chris\"\n",
    "    b = \"Edward\"\n",
    "    c = \"Lola\"\n",
    "    print(a,b,x,y)\n",
    "    a = \"Mary\"\n",
    "swap (\"Tina\",\"Tolu\")\n",
    "print(a)"
   ]
  },
  {
   "cell_type": "code",
   "execution_count": null,
   "id": "1eb6db67-f0f5-462e-acd9-c8d131fe25ca",
   "metadata": {},
   "outputs": [],
   "source": []
  }
 ],
 "metadata": {
  "kernelspec": {
   "display_name": "Python 3 (ipykernel)",
   "language": "python",
   "name": "python3"
  },
  "language_info": {
   "codemirror_mode": {
    "name": "ipython",
    "version": 3
   },
   "file_extension": ".py",
   "mimetype": "text/x-python",
   "name": "python",
   "nbconvert_exporter": "python",
   "pygments_lexer": "ipython3",
   "version": "3.12.7"
  }
 },
 "nbformat": 4,
 "nbformat_minor": 5
}
