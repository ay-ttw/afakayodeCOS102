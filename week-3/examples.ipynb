{
 "cells": [
  {
   "cell_type": "code",
   "execution_count": 11,
   "id": "22dbd787-fcea-42c3-8f14-75f9f770ed71",
   "metadata": {},
   "outputs": [
    {
     "name": "stdout",
     "output_type": "stream",
     "text": [
      "20\n",
      "30\n",
      "40\n",
      "50\n"
     ]
    }
   ],
   "source": [
    "#For Loop\n",
    "#Example1\n",
    "count = [10,20,30,40,50]\n",
    "for num in count[1:5]:\n",
    "    print(num)"
   ]
  },
  {
   "cell_type": "code",
   "execution_count": 30,
   "id": "1018fee6-6c96-4357-9202-1faeb750bb0c",
   "metadata": {},
   "outputs": [
    {
     "name": "stdout",
     "output_type": "stream",
     "text": [
      "0\n",
      "10\n",
      "20\n",
      "30\n",
      "40\n"
     ]
    }
   ],
   "source": [
    "#Example2\n",
    "for num in range(5):\n",
    "        print(num*10)"
   ]
  },
  {
   "cell_type": "code",
   "execution_count": null,
   "id": "8cc58548-63f9-47ac-a7c4-a6a52e787672",
   "metadata": {},
   "outputs": [],
   "source": [
    "#While Loop"
   ]
  },
  {
   "cell_type": "code",
   "execution_count": 13,
   "id": "84d87572-6731-4178-b900-b62688f0e42d",
   "metadata": {},
   "outputs": [
    {
     "name": "stdout",
     "output_type": "stream",
     "text": [
      "1\n",
      "2\n",
      "3\n",
      "4\n",
      "5\n"
     ]
    }
   ],
   "source": [
    "count = 1\n",
    "while count <=5:\n",
    "    print(count)\n",
    "    count+= 1"
   ]
  },
  {
   "cell_type": "code",
   "execution_count": 4,
   "id": "6ca366ce-b254-4393-8d58-774c4c0f006c",
   "metadata": {},
   "outputs": [
    {
     "name": "stdout",
     "output_type": "stream",
     "text": [
      "['me', 10]\n"
     ]
    }
   ],
   "source": [
    "age = ['me', 10 , \"Aba\"]\n",
    "print (age[0:2])"
   ]
  },
  {
   "cell_type": "code",
   "execution_count": 5,
   "id": "fa28592a-1772-4472-9161-5d477dc39708",
   "metadata": {},
   "outputs": [],
   "source": [
    "#Break Statement"
   ]
  },
  {
   "cell_type": "code",
   "execution_count": 6,
   "id": "cb31e9e5-35df-4fea-9bad-c9e74a0754ef",
   "metadata": {},
   "outputs": [
    {
     "name": "stdout",
     "output_type": "stream",
     "text": [
      "Enter numbers to find their sum, negative numbers end the loop:\n"
     ]
    },
    {
     "name": "stdin",
     "output_type": "stream",
     "text": [
      " 2\n",
      " 3\n",
      " 3\n",
      " 3\n",
      " 3\n",
      " 3\n",
      " 3\n",
      " 3\n",
      " -3\n"
     ]
    },
    {
     "name": "stdout",
     "output_type": "stream",
     "text": [
      "Sum = 23\n"
     ]
    }
   ],
   "source": [
    "entry = 0\n",
    "sum1  = 0\n",
    "print(\"Enter numbers to find their sum, negative numbers end the loop:\")\n",
    "while True: #Loop\n",
    "    entry = int(input())\n",
    "    if (entry < 0):\n",
    "        break\n",
    "    sum1 += entry\n",
    "print(\"Sum =\",sum1)\n"
   ]
  },
  {
   "cell_type": "code",
   "execution_count": null,
   "id": "0483567b-5ccc-4981-a138-f64a4d2b6861",
   "metadata": {},
   "outputs": [],
   "source": [
    "#Continue statement"
   ]
  },
  {
   "cell_type": "code",
   "execution_count": 31,
   "id": "c7f0153a-f5a1-480b-b534-e040c997ea0d",
   "metadata": {},
   "outputs": [
    {
     "name": "stdout",
     "output_type": "stream",
     "text": [
      "Num has value1\n",
      "Num has value2\n",
      "Num has value4\n",
      "Num has value5\n",
      "Num has value6\n",
      "End of loop\n"
     ]
    }
   ],
   "source": [
    "'''entry = 0\n",
    "sum1  = 0\n",
    "print(\"Enter numbers to find their sum, negative numbers end the loop:\")\n",
    "while True: #Loop\n",
    "    entry = int(input())\n",
    "    if (entry < 0):\n",
    "        continue\n",
    "    sum1 += entry\n",
    "print(\"Sum =\",sum1) '''\n",
    "\n",
    "#Endlessly asks for input for entry, completely ignores sum1 += entry\n",
    "\n",
    "#Example 2\n",
    "num = 0\n",
    "for num in range(6):\n",
    "    num = num + 1\n",
    "    if num == 3:\n",
    "        continue\n",
    "    print('Num has value' + str(num))\n",
    "print('End of loop')"
   ]
  },
  {
   "cell_type": "code",
   "execution_count": null,
   "id": "32e24069-3195-4303-b249-4d9612d93724",
   "metadata": {},
   "outputs": [],
   "source": [
    "#Nested loop"
   ]
  },
  {
   "cell_type": "code",
   "execution_count": 40,
   "id": "994b75d1-ca8f-4df0-8fb7-de7dc610da7c",
   "metadata": {},
   "outputs": [
    {
     "name": "stdout",
     "output_type": "stream",
     "text": [
      "Iteration 1 of outer loop\n",
      "1\n",
      "Out of inner loop\n",
      "2\n",
      "Out of inner loop\n",
      "Iteration 2 of outer loop\n",
      "1\n",
      "Out of inner loop\n",
      "2\n",
      "Out of inner loop\n",
      "Iteration 3 of outer loop\n",
      "1\n",
      "Out of inner loop\n",
      "2\n",
      "Out of inner loop\n",
      "Out of outer loop\n"
     ]
    }
   ],
   "source": [
    "#Example1\n",
    "for var1 in range(3):\n",
    "     print (\"Iteration \" + str(var1 + 1) + \" of outer loop\")\n",
    "     for var2 in range(2): #nested loop\n",
    "         print(var2 + 1)\n",
    "         print(\"Out of inner loop\")\n",
    "print(\"Out of outer loop\")"
   ]
  },
  {
   "cell_type": "code",
   "execution_count": null,
   "id": "5ed51dd6-ba35-4218-ae6e-63ac4e98ebb6",
   "metadata": {},
   "outputs": [],
   "source": []
  }
 ],
 "metadata": {
  "kernelspec": {
   "display_name": "Python 3 (ipykernel)",
   "language": "python",
   "name": "python3"
  },
  "language_info": {
   "codemirror_mode": {
    "name": "ipython",
    "version": 3
   },
   "file_extension": ".py",
   "mimetype": "text/x-python",
   "name": "python",
   "nbconvert_exporter": "python",
   "pygments_lexer": "ipython3",
   "version": "3.12.7"
  }
 },
 "nbformat": 4,
 "nbformat_minor": 5
}
