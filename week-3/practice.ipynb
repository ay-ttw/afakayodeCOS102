{
 "cells": [
  {
   "cell_type": "code",
   "execution_count": 1,
   "id": "22dbd787-fcea-42c3-8f14-75f9f770ed71",
   "metadata": {},
   "outputs": [
    {
     "name": "stdin",
     "output_type": "stream",
     "text": [
      "Enter the name of your city:  Lagos\n",
      "Enter the name of your city:  Ikeja\n"
     ]
    },
    {
     "name": "stdout",
     "output_type": "stream",
     "text": [
      "The name of City 1 after swapping is Ikeja\n",
      "The name of City 2 after swapping is Lagos\n"
     ]
    }
   ],
   "source": [
    "#Program to swap cities\n",
    "\n",
    "city_1 = input('Enter the name of your city: ')\n",
    "city_2 = input('Enter the name of your city: ')\n",
    "\n",
    "temp = city_1\n",
    "city_1  = city_2\n",
    "city_2  = temp\n",
    "\n",
    "print(f\"The name of City 1 after swapping is {city_1}\")\n",
    "print(f\"The name of City 2 after swapping is {city_2}\")\n"
   ]
  },
  {
   "cell_type": "code",
   "execution_count": 6,
   "id": "3d34cfbf-bf0c-4eb4-9058-a46925ac39f5",
   "metadata": {},
   "outputs": [
    {
     "name": "stdin",
     "output_type": "stream",
     "text": [
      "Enter a number:  0.0000000000000000\n"
     ]
    },
    {
     "name": "stdout",
     "output_type": "stream",
     "text": [
      "Zero\n"
     ]
    }
   ],
   "source": [
    "#Program to check if number is +ve or -ve\n",
    "\n",
    "num  = float(input(\"Enter a number: \"))\n",
    "if num > 0:\n",
    "   print(\"Positive number\")\n",
    "elif num==0:\n",
    "   print(\"Zero\")\n",
    "else:\n",
    "   print(\"Negative number\")"
   ]
  },
  {
   "cell_type": "code",
   "execution_count": 13,
   "id": "057b297d-f8c5-4314-ae22-9f64a54b8559",
   "metadata": {},
   "outputs": [
    {
     "name": "stdout",
     "output_type": "stream",
     "text": [
      "Welcome to the coupe de escriva 2023 football picks \n",
      " \n",
      "Madiba  Chubby Obiora-Okafo\n",
      "\n",
      "\n",
      "Madiba  Chubby Obiora-Okafo\n",
      "Blue Jays Oladimeji Abaniwondea/Jeffery Awagu\n",
      "Cirok Timileyin Pearse/Izuako Jeremy\n",
      "TSG Walkers Ayomide Ojituku\n",
      "Blue Jays Christopher Uweh\n",
      "\n",
      "\n",
      "Madiba  Chubby Obiora-Okafo\n",
      "Blue Jays Oladimeji Abaniwondea/Jeffery Awagu\n",
      "Cirok Timileyin Pearse/Izuako Jeremy\n",
      "TSG Walkers Ayomide Ojituku\n",
      "Cirok Alexander\n",
      "\n",
      "\n",
      "Madiba  Chubby Obiora-Okafo\n",
      "Blue Jays Oladimeji Abaniwondea/Jeffery Awagu\n",
      "Cirok Timileyin Pearse/Izuako Jeremy\n",
      "TSG Walkers Ayomide Ojituku\n",
      "TSG Walkers Ikechukwu\n",
      "\n",
      "\n",
      "Madiba  Chubby Obiora-Okafo\n",
      "Blue Jays Oladimeji Abaniwondea/Jeffery Awagu\n",
      "Cirok Timileyin Pearse/Izuako Jeremy\n",
      "TSG Walkers Ayomide Ojituku\n",
      "\n",
      "\n",
      "Madiba  Chubby Obiora-Okafo\n",
      "Blue Jays Oladimeji Abaniwondea/Jeffery Awagu\n",
      "Cirok Timileyin Pearse/Izuako Jeremy\n",
      "TSG Walkers Ayomide Ojituku\n"
     ]
    }
   ],
   "source": [
    "#Coupe de Escriva Football picks 2023\n",
    "\n",
    "print(\"Welcome to the coupe de escriva 2023 football picks \\n \")\n",
    "\n",
    "captain = {'Madiba ':'Chubby Obiora-Okafo', 'Blue Jays' :'Christopher Uweh', 'Cirok' : 'Alexander', 'TSG Walkers' : 'Ikechukwu' }\n",
    "\n",
    "goalkeepers = {'Madiba ':'Chubby Obiora-Okafo', \n",
    "               'Blue Jays' :'Oladimeji Abaniwondea/Jeffery Awagu', 'Cirok' : 'Timileyin Pearse/Izuako Jeremy', 'TSG Walkers' : 'Ayomide Ojituku'}\n",
    "\n",
    "for sit in captain:\n",
    "    print(sit, captain[sit])\n",
    "    print(\"\\n\")\n",
    "    for pick in goalkeepers:\n",
    "        print(pick, goalkeepers[pick])\n",
    "\n",
    "print(\"\\n\")\n",
    "\n",
    "for sit in goalkeepers:\n",
    "    print(sit, goalkeepers[sit])"
   ]
  }
 ],
 "metadata": {
  "kernelspec": {
   "display_name": "Python 3 (ipykernel)",
   "language": "python",
   "name": "python3"
  },
  "language_info": {
   "codemirror_mode": {
    "name": "ipython",
    "version": 3
   },
   "file_extension": ".py",
   "mimetype": "text/x-python",
   "name": "python",
   "nbconvert_exporter": "python",
   "pygments_lexer": "ipython3",
   "version": "3.12.7"
  }
 },
 "nbformat": 4,
 "nbformat_minor": 5
}
