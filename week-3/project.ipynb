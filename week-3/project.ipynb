{
 "cells": [
  {
   "cell_type": "code",
   "execution_count": 1,
   "id": "af71d356-9f54-4cc3-ba2e-71fc564a74ef",
   "metadata": {},
   "outputs": [
    {
     "name": "stdout",
     "output_type": "stream",
     "text": [
      "       Name  Age  Height  Score\n",
      "0    Evelyn   17     5.5     80\n",
      "1   Jessica   16     6.0     85\n",
      "2     Somto   17     5.4     70\n",
      "3     Edith   18     5.9     60\n",
      "4      Liza   16     5.6     76\n",
      "5   Madonna   18     5.5     66\n",
      "6      Waje   17     6.1     87\n",
      "7      Tola   20     6.0     95\n",
      "8     Aisha   19     5.7     50\n",
      "9    Latifa   17     5.5     49\n",
      "10  Chinedu   19     5.7     74\n",
      "11     Liam   16     5.9     87\n",
      "12     Wale   18     5.8     75\n",
      "13   Gbenga   17     6.1     68\n",
      "14   Abiola   20     5.9     66\n",
      "15     Kola   19     5.5     78\n",
      "16    Kunle   16     6.1     87\n",
      "17   George   18     5.4     98\n",
      "18   Thomas   17     5.8     54\n",
      "19   Wesley   19     5.7     60\n"
     ]
    }
   ],
   "source": [
    "#Project 1\n",
    "import pandas as pd\n",
    "\n",
    "# Girls Data\n",
    "girls = [\"Evelyn\", \"Jessica\", \"Somto\", \"Edith\", \"Liza\", \"Madonna\", \"Waje\", \"Tola\", \"Aisha\", \"Latifa\"]\n",
    "ages_girls = [17, 16, 17, 18, 16, 18, 17, 20, 19, 17]\n",
    "heights_girls = [5.5, 6.0, 5.4, 5.9, 5.6, 5.5, 6.1, 6.0, 5.7, 5.5]\n",
    "scores_girls = [80, 85, 70, 60, 76, 66, 87, 95, 50, 49]\n",
    "\n",
    "# Boys Data\n",
    "boys = [\"Chinedu\", \"Liam\", \"Wale\", \"Gbenga\", \"Abiola\", \"Kola\", \"Kunle\", \"George\", \"Thomas\", \"Wesley\"]\n",
    "ages_boys = [19, 16, 18, 17, 20, 19, 16, 18, 17, 19]\n",
    "heights_boys = [5.7, 5.9, 5.8, 6.1, 5.9, 5.5, 6.1, 5.4, 5.8, 5.7]\n",
    "scores_boys = [74, 87, 75, 68, 66, 78, 87, 98, 54, 60]\n",
    "\n",
    "names = girls + boys\n",
    "ages = ages_girls + ages_boys\n",
    "heights = heights_girls + heights_boys\n",
    "scores = scores_girls + scores_boys\n",
    "\n",
    "data = {\n",
    "    'Name': names,\n",
    "    'Age': ages,\n",
    "    'Height': heights,\n",
    "    'Score': scores\n",
    "}\n",
    "\n",
    "df = pd.DataFrame(data)\n",
    "\n",
    "# Display the data in tabular form\n",
    "print(df)\n"
   ]
  },
  {
   "cell_type": "raw",
   "id": "04b64da3-5c20-4de9-bb93-f4fe3bccc8ed",
   "metadata": {},
   "source": [
    "Algorithm\n",
    "1. Input the Data\n",
    "2. Organize data into their various groups\n",
    "3. Merge the data of both boys and girls\n",
    "4. Create tabular representation i.e by using panda library\n",
    "5. Display the table"
   ]
  },
  {
   "cell_type": "code",
   "execution_count": 78,
   "id": "ce03bb43-c98c-4554-933f-f49757eda677",
   "metadata": {},
   "outputs": [
    {
     "name": "stdout",
     "output_type": "stream",
     "text": [
      "Please state your age\n"
     ]
    },
    {
     "name": "stdin",
     "output_type": "stream",
     "text": [
      " 99\n"
     ]
    },
    {
     "name": "stdout",
     "output_type": "stream",
     "text": [
      "Please state your number of years of experience\n"
     ]
    },
    {
     "name": "stdin",
     "output_type": "stream",
     "text": [
      " 99\n"
     ]
    },
    {
     "name": "stdout",
     "output_type": "stream",
     "text": [
      "Your Annual Tax Revenue is: (5, 600, 0.0)\n"
     ]
    }
   ],
   "source": [
    "#Project2\n",
    "print(\"Please state your age\")\n",
    "age = int(input())\n",
    "print(\"Please state your number of years of experience\")\n",
    "experience = int(input())\n",
    "\n",
    "if age >= 55 and experience >= 25:\n",
    "  annual_tax = 5600000.00\n",
    "  print(\"Your Annual Tax Revenue is:\",annual_tax)\n",
    "\n",
    "elif age >= 45 and experience >= 20:\n",
    "  annual_tax = 4480000.00\n",
    "  print(\"Your Annual Tax Revenue is:\",annual_tax)\n",
    "\n",
    "elif age >= 35 and experience >= 10:\n",
    "    annual_tax = 1500000.00\n",
    "    print(\"Your Annual Tax Revenue is:\",annual_tax)\n",
    "\n",
    "elif age<= 35 and experience <= 10:\n",
    "    annual_tax = 550000.00\n",
    "    print(\"Your annual Tax Revenue is:\",annual_tax)\n",
    "    "
   ]
  }
 ],
 "metadata": {
  "kernelspec": {
   "display_name": "Python 3 (ipykernel)",
   "language": "python",
   "name": "python3"
  },
  "language_info": {
   "codemirror_mode": {
    "name": "ipython",
    "version": 3
   },
   "file_extension": ".py",
   "mimetype": "text/x-python",
   "name": "python",
   "nbconvert_exporter": "python",
   "pygments_lexer": "ipython3",
   "version": "3.12.7"
  }
 },
 "nbformat": 4,
 "nbformat_minor": 5
}
