{
 "cells": [
  {
   "cell_type": "code",
   "execution_count": null,
   "id": "39cd7e9e-cc27-4403-8327-84d5ec08ef48",
   "metadata": {},
   "outputs": [],
   "source": []
  }
 ],
 "metadata": {
  "kernelspec": {
   "display_name": "Python 3 (ipykernel)",
   "language": "python",
   "name": "python3"
  },
  "language_info": {
   "name": ""
  }
 },
 "nbformat": 4,
 "nbformat_minor": 5
}
