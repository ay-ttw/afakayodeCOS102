{
 "cells": [
  {
   "cell_type": "markdown",
   "metadata": {},
   "source": [
    "# Python | Pandas DataFrame"
   ]
  },
  {
   "cell_type": "markdown",
   "metadata": {},
   "source": [
    "### What is Pandas?"
   ]
  },
  {
   "cell_type": "markdown",
   "metadata": {},
   "source": [
    "<b>pandas</b> is a software library written for the Python programming language for data manipulation and analysis. In particular, it offers data structures and operations for manipulating numerical tables and time series. "
   ]
  },
  {
   "cell_type": "markdown",
   "metadata": {},
   "source": [
    "### What is a Pandas DataFrame?"
   ]
  },
  {
   "cell_type": "markdown",
   "metadata": {},
   "source": [
    "<b>Pandas DataFrame</b> is two-dimensional size-mutable, potentially heterogeneous tabular data structure with labeled axes (rows and columns). \n",
    "\n",
    "A Data frame is a two-dimensional data structure, i.e., data is aligned in a tabular fashion in rows and columns. \n",
    "\n",
    "Pandas DataFrame consists of three principal components, the data, rows, and columns."
   ]
  },
  {
   "cell_type": "markdown",
   "metadata": {},
   "source": [
    "<img src=\"images/pandas.jpg\">"
   ]
  },
  {
   "cell_type": "markdown",
   "metadata": {},
   "source": [
    "A Pandas DataFrame will be created by loading the datasets from existing storage. Storage can be SQL Database, CSV file, and Excel file. \n",
    "Pandas DataFrame can be created from the lists, dictionary, and from a list of dictionary etc.\n",
    "\n",
    "Dataframe can be created in different ways here are some ways by which we create a dataframe:\n"
   ]
  },
  {
   "cell_type": "markdown",
   "metadata": {},
   "source": [
    "### Creating a dataframe using List:"
   ]
  },
  {
   "cell_type": "code",
   "execution_count": 2,
   "metadata": {},
   "outputs": [
    {
     "data": {
      "text/html": [
       "<div>\n",
       "<style scoped>\n",
       "    .dataframe tbody tr th:only-of-type {\n",
       "        vertical-align: middle;\n",
       "    }\n",
       "\n",
       "    .dataframe tbody tr th {\n",
       "        vertical-align: top;\n",
       "    }\n",
       "\n",
       "    .dataframe thead th {\n",
       "        text-align: right;\n",
       "    }\n",
       "</style>\n",
       "<table border=\"1\" class=\"dataframe\">\n",
       "  <thead>\n",
       "    <tr style=\"text-align: right;\">\n",
       "      <th></th>\n",
       "      <th>0</th>\n",
       "    </tr>\n",
       "  </thead>\n",
       "  <tbody>\n",
       "    <tr>\n",
       "      <th>0</th>\n",
       "      <td>CSC</td>\n",
       "    </tr>\n",
       "    <tr>\n",
       "      <th>1</th>\n",
       "      <td>102</td>\n",
       "    </tr>\n",
       "    <tr>\n",
       "      <th>2</th>\n",
       "      <td>is</td>\n",
       "    </tr>\n",
       "    <tr>\n",
       "      <th>3</th>\n",
       "      <td>the</td>\n",
       "    </tr>\n",
       "    <tr>\n",
       "      <th>4</th>\n",
       "      <td>best</td>\n",
       "    </tr>\n",
       "    <tr>\n",
       "      <th>5</th>\n",
       "      <td>course</td>\n",
       "    </tr>\n",
       "    <tr>\n",
       "      <th>6</th>\n",
       "      <td>ever</td>\n",
       "    </tr>\n",
       "  </tbody>\n",
       "</table>\n",
       "</div>"
      ],
      "text/plain": [
       "        0\n",
       "0     CSC\n",
       "1     102\n",
       "2      is\n",
       "3     the\n",
       "4    best\n",
       "5  course\n",
       "6    ever"
      ]
     },
     "execution_count": 2,
     "metadata": {},
     "output_type": "execute_result"
    }
   ],
   "source": [
    "# import pandas as pd\n",
    "import pandas as pd\n",
    " \n",
    "# list of strings\n",
    "lyst = ['CSC', '102', 'is', 'the', 'best', 'course', 'ever']\n",
    " \n",
    "# Calling DataFrame constructor on list\n",
    "df = pd.DataFrame(lyst)\n",
    "\n",
    "# Print the output.\n",
    "df"
   ]
  },
  {
   "cell_type": "markdown",
   "metadata": {},
   "source": [
    "### Creating a dataframe using dict of narray/lists:"
   ]
  },
  {
   "cell_type": "code",
   "execution_count": null,
   "metadata": {},
   "outputs": [],
   "source": [
    "import pandas as pd\n",
    " \n",
    "# intialise data of lists.\n",
    "data = {'Name':['Angela', 'Precious', 'Luis', 'Ade'],\n",
    "        'Age':[20, 21, 19, 18,20]}\n",
    " \n",
    "# Create DataFrame\n",
    "df = pd.DataFrame(data)\n",
    " \n",
    "# Print the output.\n",
    "df"
   ]
  },
  {
   "cell_type": "markdown",
   "metadata": {},
   "source": [
    "### Column Selection:"
   ]
  },
  {
   "cell_type": "code",
   "execution_count": null,
   "metadata": {},
   "outputs": [],
   "source": [
    "# Import pandas package\n",
    "import pandas as pd\n",
    " \n",
    "# Define a dictionary containing employee data\n",
    "data = {'Name':['Clem', 'Prince', 'Edward', 'Adele'],\n",
    "        'Age':[27, 24, 22, 32],\n",
    "        'Address':['Abuja', 'Kano', 'Minna', 'Lagos'],\n",
    "        'Qualification':['Msc', 'MA', 'MCA', 'Phd']}\n",
    " \n",
    "# Convert the dictionary into DataFrame \n",
    "df = pd.DataFrame(data)\n",
    " \n",
    "# select two columns\n",
    "df[['Name', 'Qualification']]\n"
   ]
  },
  {
   "cell_type": "markdown",
   "metadata": {},
   "source": [
    "### Row Selection:\n",
    "Pandas provide a unique method to retrieve rows from a Data frame.<br>\n",
    "<i><font color=\"green\">DataFrame.iloc[]</font></i> method is used to retrieve rows from Pandas DataFrame.<br>"
   ]
  },
  {
   "cell_type": "code",
   "execution_count": 8,
   "metadata": {},
   "outputs": [
    {
     "data": {
      "text/plain": [
       "Name              Oyin\n",
       "Age                 27\n",
       "Address          Asaba\n",
       "Qualification      Msc\n",
       "Name: 0, dtype: object"
      ]
     },
     "execution_count": 8,
     "metadata": {},
     "output_type": "execute_result"
    }
   ],
   "source": [
    "import pandas as pd\n",
    " \n",
    "# Define a dictionary containing employee data\n",
    "data = {'Name':['Oyin', 'Mary', 'David', 'Bola'],\n",
    "        'Age':[27, 24, 22, 32],\n",
    "        'Address':['Asaba', 'Maiduguri', 'Onitsha', 'Kwara'],\n",
    "        'Qualification':['Msc', 'MA', 'MCA', 'Phd']}\n",
    " \n",
    "# Convert the dictionary into DataFrame \n",
    "df = pd.DataFrame(data)\n",
    " \n",
    "# select first row\n",
    "df.iloc[0]"
   ]
  },
  {
   "cell_type": "markdown",
   "metadata": {},
   "source": [
    "### Read from a file:"
   ]
  },
  {
   "cell_type": "code",
   "execution_count": null,
   "metadata": {},
   "outputs": [],
   "source": [
    "# importing pandas package\n",
    "import pandas as pd\n",
    " \n",
    "# making data frame from csv file\n",
    "data = pd.read_csv(\"employe_records.csv\")\n",
    "\n",
    "# print excel\n",
    "data"
   ]
  },
  {
   "cell_type": "markdown",
   "metadata": {},
   "source": [
    "### Select first row from file"
   ]
  },
  {
   "cell_type": "code",
   "execution_count": null,
   "metadata": {},
   "outputs": [],
   "source": [
    "# importing pandas package\n",
    "import pandas as pd\n",
    " \n",
    "# making data frame from csv file\n",
    "data = pd.read_csv(\"employee_records.csv\")\n",
    "\n",
    "df=data.iloc[0]\n",
    "\n",
    "# print excel\n",
    "df"
   ]
  },
  {
   "cell_type": "markdown",
   "metadata": {},
   "source": [
    "### Selecting Row with Title Header"
   ]
  },
  {
   "cell_type": "code",
   "execution_count": null,
   "metadata": {},
   "outputs": [],
   "source": [
    "# importing pandas package\n",
    "import pandas as pd\n",
    " \n",
    "# making data frame from csv file\n",
    "data = pd.read_csv(\"bcg.cs\")\n",
    "\n",
    "df=data.head(1)\n",
    "\n",
    "# print excel\n",
    "df"
   ]
  },
  {
   "cell_type": "markdown",
   "metadata": {},
   "source": [
    "### Looping over rows and columns\n",
    "A loop is a general term for taking each item of something, one after another.<br> Pandas DataFrame consists of rows and columns so, in order to loop over dataframe, we have to iterate a dataframe like a dictionary.<br><br>\n",
    "In order to iterate over rows, we can use two functions <i><font color=\"green\">iteritems(), iterrows() </font></i>. These two functions will help in iteration over rows."
   ]
  },
  {
   "cell_type": "code",
   "execution_count": null,
   "metadata": {},
   "outputs": [],
   "source": [
    "# importing pandas as pd\n",
    "import pandas as pd\n",
    "  \n",
    "# dictionary of lists\n",
    "dict = {'name':[\"Abdul\", \"Chukwuemeka\", \"Seyi\", \"Matt\"],\n",
    "        'degree': [\"MBA\", \"BCA\", \"M.Tech\", \"MBA\"],\n",
    "        'score':[90, 40, 80, 98]}\n",
    " \n",
    "# creating a dataframe from a dictionary \n",
    "df = pd.DataFrame(dict)\n",
    "\n",
    "# iterating over rows using iterrows() function \n",
    "for i, j in df.iterrows():\n",
    "    print(i, j)\n",
    "    print()"
   ]
  },
  {
   "cell_type": "markdown",
   "metadata": {},
   "source": [
    "### Looping over Columns :\n",
    "In order to loop over columns, we need to create a list of dataframe columns and then iterating through that list to pull out the dataframe columns."
   ]
  },
  {
   "cell_type": "code",
   "execution_count": null,
   "metadata": {},
   "outputs": [],
   "source": [
    "# importing pandas as pd\n",
    "import pandas as pd\n",
    "   \n",
    "# dictionary of lists\n",
    "dict = {'name':[\"Bello\", \"Kamara\", \"Ugochi\", \"David\"],\n",
    "        'degree': [\"MBA\", \"BCA\", \"M.Tech\", \"MBA\"],\n",
    "        'score':[90, 40, 80, 98]}\n",
    "  \n",
    "# creating a dataframe from a dictionary \n",
    "df = pd.DataFrame(dict)\n",
    "\n",
    "# creating a list of dataframe columns\n",
    "columns = list(df)\n",
    " \n",
    "for i in columns:\n",
    " \n",
    "    # printing the third element of the column\n",
    "    print (df[i][2])"
   ]
  },
  {
   "cell_type": "markdown",
   "metadata": {},
   "source": [
    "### Saving a DataFrame as CSV file"
   ]
  },
  {
   "cell_type": "code",
   "execution_count": null,
   "metadata": {},
   "outputs": [],
   "source": [
    "# importing pandas as pd\n",
    "import pandas as pd\n",
    "   \n",
    "# dictionary of lists\n",
    "records = {'name':[\"Abel\", \"Kamsi\", \"Oyode\", \"Chinelo\"],\n",
    "        'degree': [\"MBA\", \"BCA\", \"M.Tech\", \"MBA\"],\n",
    "        'score':[90, 40, 80, 98]}\n",
    "  \n",
    "# creating a dataframe from a dictionary \n",
    "df = pd.DataFrame(records)\n",
    "\n",
    "# saving the dataframe\n",
    "df.to_csv('record.csv')"
   ]
  },
  {
   "cell_type": "markdown",
   "metadata": {},
   "source": [
    "## Class Project I\n"
   ]
  },
  {
   "cell_type": "markdown",
   "metadata": {},
   "source": [
    "####  Go to www.kaggle.com\n",
    "\n",
    "Kaggle allows users to find and publish data sets, explore and build models in a web-based data-science environment, work with other data scientists and machine learning engineers, and enter competitions to solve data science challenges.\n",
    "\n",
    "#### Download the following dataset:\n",
    "1. Top Apps in Google Play\n",
    "2. Cryptocurrency Predict Artificial Intelligence V3\n",
    "3. Programming Languages Trend Over Time\n",
    "\n",
    "#### Clue\n",
    "You can signin with either Google, facebook or Linkedin account\n",
    "\n",
    "#### Task\n",
    "Display the first 7 rows of each dataset<br>\n",
    "Select the first 3 colums of each dataset<br>\n",
    "Display only one row and header of each dataset\n"
   ]
  },
  {
   "cell_type": "code",
   "execution_count": null,
   "metadata": {},
   "outputs": [
    {
     "data": {
      "text/html": [
       "<div>\n",
       "<style scoped>\n",
       "    .dataframe tbody tr th:only-of-type {\n",
       "        vertical-align: middle;\n",
       "    }\n",
       "\n",
       "    .dataframe tbody tr th {\n",
       "        vertical-align: top;\n",
       "    }\n",
       "\n",
       "    .dataframe thead th {\n",
       "        text-align: right;\n",
       "    }\n",
       "</style>\n",
       "<table border=\"1\" class=\"dataframe\">\n",
       "  <thead>\n",
       "    <tr style=\"text-align: right;\">\n",
       "      <th></th>\n",
       "      <th>reviewId</th>\n",
       "      <th>content</th>\n",
       "      <th>score</th>\n",
       "    </tr>\n",
       "  </thead>\n",
       "  <tbody>\n",
       "    <tr>\n",
       "      <th>0</th>\n",
       "      <td>8036e5bd-50b5-4ec9-b2fc-59ae67ac6d1c</td>\n",
       "      <td>Very nice game 👍👍👍</td>\n",
       "      <td>5</td>\n",
       "    </tr>\n",
       "    <tr>\n",
       "      <th>1</th>\n",
       "      <td>85f0363a-82b5-4877-b96a-2896e8c3b9b7</td>\n",
       "      <td>Last few days no ads, always says connection p...</td>\n",
       "      <td>4</td>\n",
       "    </tr>\n",
       "    <tr>\n",
       "      <th>2</th>\n",
       "      <td>6434d362-f869-4443-a6af-47b27bc0e0fb</td>\n",
       "      <td>sigma boy I am Sigma</td>\n",
       "      <td>5</td>\n",
       "    </tr>\n",
       "    <tr>\n",
       "      <th>3</th>\n",
       "      <td>d48af578-78aa-4f01-9966-ff8293766cb6</td>\n",
       "      <td>I love this game and I had so many limited cha...</td>\n",
       "      <td>5</td>\n",
       "    </tr>\n",
       "    <tr>\n",
       "      <th>4</th>\n",
       "      <td>175c0803-b308-4c8d-b288-7d423d289bad</td>\n",
       "      <td>it's a fun game but once you keep playing it t...</td>\n",
       "      <td>2</td>\n",
       "    </tr>\n",
       "    <tr>\n",
       "      <th>...</th>\n",
       "      <td>...</td>\n",
       "      <td>...</td>\n",
       "      <td>...</td>\n",
       "    </tr>\n",
       "    <tr>\n",
       "      <th>9995</th>\n",
       "      <td>8861a053-b0cb-4b8a-8865-578386efed09</td>\n",
       "      <td>fis gem is so so goodd</td>\n",
       "      <td>5</td>\n",
       "    </tr>\n",
       "    <tr>\n",
       "      <th>9996</th>\n",
       "      <td>5f64bd9c-c6d0-4ce3-864c-deb30f02e99f</td>\n",
       "      <td>great game it's actually work HAHAHAHHA</td>\n",
       "      <td>5</td>\n",
       "    </tr>\n",
       "    <tr>\n",
       "      <th>9997</th>\n",
       "      <td>387fd3c8-49e3-4216-afd1-20335b8995da</td>\n",
       "      <td>is this good game four offline player</td>\n",
       "      <td>5</td>\n",
       "    </tr>\n",
       "    <tr>\n",
       "      <th>9998</th>\n",
       "      <td>5cca6b02-fd1a-4136-a395-1a973a03f147</td>\n",
       "      <td>👍👍👍</td>\n",
       "      <td>5</td>\n",
       "    </tr>\n",
       "    <tr>\n",
       "      <th>9999</th>\n",
       "      <td>a466192b-8bd0-4c3a-9a43-75ff678392f1</td>\n",
       "      <td>i love it game in 10 years</td>\n",
       "      <td>5</td>\n",
       "    </tr>\n",
       "  </tbody>\n",
       "</table>\n",
       "<p>10000 rows × 3 columns</p>\n",
       "</div>"
      ],
      "text/plain": [
       "                                  reviewId  \\\n",
       "0     8036e5bd-50b5-4ec9-b2fc-59ae67ac6d1c   \n",
       "1     85f0363a-82b5-4877-b96a-2896e8c3b9b7   \n",
       "2     6434d362-f869-4443-a6af-47b27bc0e0fb   \n",
       "3     d48af578-78aa-4f01-9966-ff8293766cb6   \n",
       "4     175c0803-b308-4c8d-b288-7d423d289bad   \n",
       "...                                    ...   \n",
       "9995  8861a053-b0cb-4b8a-8865-578386efed09   \n",
       "9996  5f64bd9c-c6d0-4ce3-864c-deb30f02e99f   \n",
       "9997  387fd3c8-49e3-4216-afd1-20335b8995da   \n",
       "9998  5cca6b02-fd1a-4136-a395-1a973a03f147   \n",
       "9999  a466192b-8bd0-4c3a-9a43-75ff678392f1   \n",
       "\n",
       "                                                content  score  \n",
       "0                                    Very nice game 👍👍👍      5  \n",
       "1     Last few days no ads, always says connection p...      4  \n",
       "2                                  sigma boy I am Sigma      5  \n",
       "3     I love this game and I had so many limited cha...      5  \n",
       "4     it's a fun game but once you keep playing it t...      2  \n",
       "...                                                 ...    ...  \n",
       "9995                             fis gem is so so goodd      5  \n",
       "9996            great game it's actually work HAHAHAHHA      5  \n",
       "9997              is this good game four offline player      5  \n",
       "9998                                                👍👍👍      5  \n",
       "9999                         i love it game in 10 years      5  \n",
       "\n",
       "[10000 rows x 3 columns]"
      ]
     },
     "execution_count": 26,
     "metadata": {},
     "output_type": "execute_result"
    }
   ],
   "source": [
    "# importing pandas package\n",
    "import pandas as pd\n",
    " \n",
    "# making data frame from csv file\n",
    "data1 = pd.read_csv(\"BTC_DATA_V3.0.csv\")\n",
    "data2 = pd.read_csv(\"Candy Crush Saga.csv\")\n",
    "data3 = pd.read_csv(\"Dropbox.csv\")\n",
    "data4 = pd.read_csv(\"Facebook Lite.csv\")\n",
    "data5 = pd.read_csv(\"Facebook Messenger.csv\")\n",
    "data6 = pd.read_csv(\"Facebook.csv\")\n",
    "data7 = pd.read_csv(\"Flipboard.csv\")\n",
    "data8 = pd.read_csv(\"Instagram.csv\")\n",
    "data9 = pd.read_csv(\"LINE.csv\")\n",
    "data10 = pd.read_csv(\"Microsoft PowerPoint.csv\")\n",
    "data11 = pd.read_csv(\"Microsoft Word.csv\")\n",
    "data12 = pd.read_csv(\"Netflix.csv \")\n",
    "data13 = pd.read_csv(\"programming language trend over time.csv\")\n",
    "data14 = pd.read_csv(\"SHAREit.csv \")\n",
    "data15 = pd.read_csv(\"Skype.csv\")\n",
    "data16 = pd.read_csv(\"Snapchat.csv\")\n",
    "data17 = pd.read_csv(\"Spotify.csv\")\n",
    "data18 = pd.read_csv(\"Subway Surfers.csv\")\n",
    "data19 = pd.read_csv(\"TikTok.csv\")\n",
    "data20 = pd.read_csv(\"Twitter.csv\")\n",
    "data21 = pd.read_csv(\"Viber.csv\")\n",
    "data22 = pd.read_csv(\"WhatsApp.csv\")\n",
    "\n",
    "# pMaking dataframes\n",
    "df1 = pd.DataFrame(data1).iloc[0:8]\n",
    "df2 = pd.DataFrame(data2).iloc[0:8]\n",
    "df3 = pd.DataFrame(data3).iloc[0:8]\n",
    "df4 = pd.DataFrame(data4).iloc[0:8]\n",
    "df5 = pd.DataFrame(data5).iloc[0:8]\n",
    "df6 = pd.DataFrame(data6).iloc[0:8]\n",
    "df7 = pd.DataFrame(data7).iloc[0:8]\n",
    "df8 = pd.DataFrame(data8).iloc[0:8]\n",
    "df9 = pd.DataFrame(data9).iloc[0:8]\n",
    "df10 = pd.DataFrame(data10).iloc[0:8]\n",
    "df11 = pd.DataFrame(data11).iloc[0:8]\n",
    "df12 = pd.DataFrame(data12).iloc[0:8]\n",
    "df13 = pd.DataFrame(data13).iloc[0:8]\n",
    "df14 = pd.DataFrame(data14).iloc[0:8]\n",
    "df15 = pd.DataFrame(data15).iloc[0:8]\n",
    "df16 = pd.DataFrame(data16).iloc[0:8]\n",
    "df17 = pd.DataFrame(data17).iloc[0:8]\n",
    "df18 = pd.DataFrame(data18).iloc[0:8]\n",
    "df19 = pd.DataFrame(data19).iloc[0:8]\n",
    "df20 = pd.DataFrame(data20).iloc[0:8]\n",
    "df21 = pd.DataFrame(data21).iloc[0:8]\n",
    "df22 = pd.DataFrame(data22).iloc[0:8]\n",
    "\n",
    "\n",
    "\n",
    "dfc1 = pd.DataFrame(data1).iloc[:,[0,1,2]]\n",
    "dfc2 = pd.DataFrame(data2).iloc[:,[0,1,2]]\n",
    "dfc3 = pd.DataFrame(data3).iloc[:,[0,1,2]]\n",
    "dfc4 = pd.DataFrame(data4).iloc[:,[0,1,2]]\n",
    "dfc5 = pd.DataFrame(data5).iloc[:,[0,1,2]]\n",
    "dfc6 = pd.DataFrame(data6).iloc[:,[0,1,2]]\n",
    "dfc7 = pd.DataFrame(data7).iloc[:,[0,1,2]]\n",
    "dfc8 = pd.DataFrame(data8).iloc[:,[0,1,2]]\n",
    "dfc9 = pd.DataFrame(data9).iloc[:,[0,1,2]]\n",
    "dfc10 = pd.DataFrame(data10).iloc[:,[0,1,2]]\n",
    "dfc11 = pd.DataFrame(data11).iloc[:,[0,1,2]]\n",
    "dfc12 = pd.DataFrame(data12).iloc[:,[0,1,2]]\n",
    "dfc13 = pd.DataFrame(data13).iloc[:,[0,1,2]]\n",
    "dfc14 = pd.DataFrame(data14).iloc[:,[0,1,2]]\n",
    "dfc15 = pd.DataFrame(data15).iloc[:,[0,1,2]]\n",
    "dfc16 = pd.DataFrame(data16).iloc[:,[0,1,2]]\n",
    "dfc17 = pd.DataFrame(data17).iloc[:,[0,1,2]]\n",
    "dfc18 = pd.DataFrame(data18).iloc[:,[0,1,2]]\n",
    "dfc19 = pd.DataFrame(data19).iloc[:,[0,1,2]]\n",
    "dfc20 = pd.DataFrame(data20).iloc[:,[0,1,2]]\n",
    "dfc21 = pd.DataFrame(data21).iloc[:,[0,1,2]]\n",
    "dfc22 = pd.DataFrame(data22).iloc[:,[0,1,2]]\n",
    "\n",
    "\n"
   ]
  },
  {
   "cell_type": "markdown",
   "metadata": {},
   "source": [
    "## Class Project II"
   ]
  },
  {
   "cell_type": "markdown",
   "metadata": {},
   "source": [
    "<b>Cadbury Nigeria Plc</b> manufactures and sells branded fast moving consumer goods to the Nigerian market and exports in West Africa. The Company produces intermediate products, such as cocoa butter, liquor, cake and powder. It exports cocoa butter, cake and liquor to international customers, and cocoa powder locally. It operates through three segments: Refreshment Beverages, Confectionery and Intermediate Cocoa Products. The Refreshment Beverages segment includes the manufacture and sale of Bournvita and Hot Chocolate. The Confectionery segment includes the manufacture and sale of Tom Tom and Buttermint. The Intermediate Cocoa Products segment includes the manufacture and sale of cocoa powder, cocoa butter, cocoa liquor and cocoa cake. The Refreshment Beverages' brands include CADBURY BOURNVITA and CADBURY 3-in-1 HOT CHOCOLATE. The Confectionery's brands include TOMTOM CLASSIC, TOMTOM STRAWBERRY and BUTTERMINT. The Intermediate Cocoa Products' brands include COCOA POWDER and COCOA BUTTER.\n",
    "\n",
    "You have been employed as an expert python developer to create a program to document the consumption categories of their products and brands. Using your knowledge of Pandas DataFrames develop the program that saves the list of products (export, segments and brands) in a .csv excel file.<br><br>\n",
    "Hint: save the filename as <font color=\"green\"><i>cadbury_market.csv</i></font>."
   ]
  },
  {
   "cell_type": "code",
   "execution_count": null,
   "metadata": {},
   "outputs": [],
   "source": [
    "exp = {'International':['Cocoa butter','Cake','Liquor'],\n",
    "          'Local':['Cocoa Powder']}\n",
    "\n",
    "seg = {'Refreshment Beverages':['Bournvita', 'Hot Chocolate'],\n",
    "       'Confectionery':['Tom Tom' 'Buttermint'],\n",
    "       'Intermediate':['cocoa powder', 'cocoa butter', 'cocoa liquor', 'cocoa cake']}\n",
    "\n",
    "brnd= {'Intermediate':['Cadbury Cocoa Powder','Cadbury Cocoa Butter'],\n",
    "'Confectioneries':['TomTom Classic','TomTom Strawberry','Buttermint'],\n",
    "'Beverages':['Cabury Bournvita','Cadbury 3-in-1 Hot Chocolate',]}\n",
    "\n",
    "data = {\n",
    "    'Category': ['International', 'International', 'International', 'Local'],\n",
    "    'Product': ['Cocoa butter', 'Cake', 'Liquor', 'Cocoa Powder'],\n",
    "    'Segment': ['Intermediate', 'Intermediate', 'Intermediate', 'Refreshment Beverages'],\n",
    "    'Brand': ['Cadbury Cocoa Butter', 'Cadbury Cocoa Powder', 'Cadbury Cocoa Liquor', 'Cadbury Bournvita']\n",
    "}\n",
    "\n",
    "df = pd.DataFrame(data)\n",
    "\n",
    "df.to_csv('cadbury_market.csv')"
   ]
  },
  {
   "cell_type": "code",
   "execution_count": null,
   "metadata": {},
   "outputs": [],
   "source": []
  }
 ],
 "metadata": {
  "kernelspec": {
   "display_name": "Python 3 (ipykernel)",
   "language": "python",
   "name": "python3"
  },
  "language_info": {
   "codemirror_mode": {
    "name": "ipython",
    "version": 3
   },
   "file_extension": ".py",
   "mimetype": "text/x-python",
   "name": "python",
   "nbconvert_exporter": "python",
   "pygments_lexer": "ipython3",
   "version": "3.12.7"
  }
 },
 "nbformat": 4,
 "nbformat_minor": 4
}
